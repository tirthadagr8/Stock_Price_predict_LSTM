{
 "cells": [
  {
   "cell_type": "code",
   "execution_count": 17,
   "metadata": {},
   "outputs": [],
   "source": [
    "import pandas as pd\n",
    "import numpy as np\n",
    "from keras.models import Sequential\n",
    "from keras.layers import Dense, SimpleRNN,LSTM,Dropout\n",
    "from sklearn.preprocessing import MinMaxScaler,StandardScaler\n",
    "from sklearn.metrics import mean_squared_error\n",
    "import math\n",
    "import matplotlib.pyplot as plt\n",
    "import plotly.express as px"
   ]
  },
  {
   "cell_type": "code",
   "execution_count": 18,
   "metadata": {},
   "outputs": [
    {
     "data": {
      "text/plain": [
       "array([0.24083641, 0.11685117, 0.19464945, 0.21894219, 0.27306273,\n",
       "       0.20537485, 0.20510455, 0.19803198, 0.24354244, 0.18634686,\n",
       "       0.18511685, 0.17712177, 0.17388654, 0.1906762 , 0.15129151,\n",
       "       0.14452645, 0.11632879, 0.05289053, 0.0621217 , 0.08241082,\n",
       "       0.06396064, 0.07060271, 0.08917589, 0.08302583, 0.10639606,\n",
       "       0.10947109, 0.06365314, 0.08118081, 0.11162362, 0.09225092,\n",
       "       0.11254613, 0.09409594, 0.09471095, 0.09717097, 0.11193719,\n",
       "       0.12638376, 0.12731235, 0.13161132, 0.11562116, 0.08794588,\n",
       "       0.09225092, 0.12546125, 0.13109501, 0.13653137, 0.12915129,\n",
       "       0.12460025, 0.11685117, 0.08610086, 0.08117474, 0.07810578,\n",
       "       0.06642066, 0.07227537, 0.07287823, 0.04956342, 0.04766298,\n",
       "       0.05412054, 0.06928082, 0.02983995, 0.02730627, 0.0498155 ,\n",
       "       0.09594096, 0.09255843, 0.10701107, 0.12484625, 0.11623616,\n",
       "       0.11131004, 0.12238015, 0.10824108, 0.09163592, 0.10209102,\n",
       "       0.11055381, 0.107005  , 0.08843788, 0.10362854, 0.11377614,\n",
       "       0.13284133, 0.16051661, 0.11562116, 0.11254613, 0.22755228,\n",
       "       0.18511685, 0.15375154, 0.12115014, 0.13407134, 0.09083033,\n",
       "       0.04797048, 0.        , 0.02214022, 0.0504305 , 0.05412054,\n",
       "       0.06273063, 0.08179582, 0.16605166, 0.14483395, 0.13130381,\n",
       "       0.1500615 , 0.14762577, 0.08794588, 0.12186992, 0.1202337 ,\n",
       "       0.12423124, 0.11377614, 0.1650555 , 0.18517228, 0.20050415,\n",
       "       0.20172202, 0.18265683, 0.17343173, 0.15221402, 0.17650677,\n",
       "       0.14452037, 0.10455105, 0.1297663 , 0.14821648, 0.13653137,\n",
       "       0.10454497, 0.11931119, 0.12576876, 0.14575646, 0.15339468,\n",
       "       0.12607626, 0.08302583, 0.08118081, 0.08241082, 0.07195572,\n",
       "       0.07749077, 0.07613776, 0.0621217 , 0.07134071, 0.10809378,\n",
       "       0.07933579, 0.07810578, 0.09163592, 0.07749077, 0.100246  ,\n",
       "       0.08856089, 0.08055366, 0.07318573, 0.07318573, 0.05412054,\n",
       "       0.04857941, 0.04674047, 0.03751538, 0.05781058, 0.06519065,\n",
       "       0.06519065, 0.07134071, 0.08364084, 0.08647594, 0.06918819,\n",
       "       0.100246  , 0.0904059 , 0.08610086, 0.09409594, 0.10086101,\n",
       "       0.11131611, 0.1100861 , 0.10947109, 0.20418204, 0.28228782,\n",
       "       0.25461255, 0.25092251, 0.2848215 , 0.28690037, 0.31365314,\n",
       "       0.31980927, 0.31560901, 0.27121771, 0.2878168 , 0.30073801,\n",
       "       0.27921279, 0.30135301, 0.34562738, 0.34132841, 0.33640836,\n",
       "       0.33218912, 0.31549815, 0.30899731, 0.29274293, 0.31057811,\n",
       "       0.29704797, 0.24600246, 0.26937269, 0.24600246, 0.24354244,\n",
       "       0.26291513, 0.26752768, 0.30073801, 0.30811808, 0.32287823,\n",
       "       0.31365314, 0.32348716, 0.33874539, 0.34961885, 0.3302583 ,\n",
       "       0.32718327, 0.31303813, 0.31611316, 0.30504305, 0.33271833,\n",
       "       0.33913869, 0.33210332, 0.31119311, 0.33487085, 0.34348093,\n",
       "       0.33640836, 0.34686347, 0.32349323, 0.32595326, 0.32687577,\n",
       "       0.30688807, 0.30688807, 0.29143319, 0.27921279, 0.26568266,\n",
       "       0.29212185, 0.2804428 , 0.25215252, 0.26568266, 0.26568266,\n",
       "       0.25214645, 0.26482165, 0.27122379, 0.27829028, 0.27613776,\n",
       "       0.27798278, 0.2902829 , 0.30811808, 0.31611316, 0.30073801,\n",
       "       0.28474785, 0.28659287, 0.29704797, 0.30152537, 0.30442804,\n",
       "       0.2503075 , 0.25215252, 0.52644526, 0.53936039, 0.4603321 ,\n",
       "       0.47030735, 0.40713407, 0.44526445, 0.45202952, 0.400369  ,\n",
       "       0.42127921, 0.40867159, 0.42558426, 0.41698024, 0.41943419,\n",
       "       0.42742927, 0.4396064 , 0.39483395, 0.41912669, 0.39111278,\n",
       "       0.39237392, 0.39852399, 0.38191882, 0.37945879, 0.40282903,\n",
       "       0.400369  , 0.40590406, 0.41851169, 0.42127921, 0.42460025,\n",
       "       0.45418204, 0.45387454, 0.48708487, 0.47356081, 0.48130381,\n",
       "       0.50492005, 0.47232472, 0.43911439, 0.41574416, 0.40713407,\n",
       "       0.40629129, 0.40375154, 0.40445917, 0.42559033, 0.40651907,\n",
       "       0.38622386, 0.37515375, 0.37607626, 0.39790898, 0.39544895,\n",
       "       0.39729397, 0.38318604, 0.37454482, 0.36654367, 0.36531365,\n",
       "       0.36777368, 0.37146371, 0.39127299, 0.3899139 , 0.38499385,\n",
       "       0.39667897, 0.39360394, 0.38376384, 0.33886839, 0.35247217,\n",
       "       0.35731857, 0.3597786 , 0.35486462, 0.39852399, 0.39237392,\n",
       "       0.42496925, 0.47785978, 0.48462485, 0.52337023, 0.54551046,\n",
       "       0.51783518, 0.51322263, 0.5104551 , 0.5202952 , 0.54612546,\n",
       "       0.54243542, 0.56291285, 0.58857607, 0.59348093, 0.61284983,\n",
       "       0.61869619, 0.60885609, 0.58548585, 0.60086101, 0.60701107,\n",
       "       0.58179582, 0.59655597, 0.60209102, 0.62607626, 0.63591636,\n",
       "       0.65375154, 0.65559656, 0.64575646, 0.63468635, 0.63653137,\n",
       "       0.64514145, 0.62764794, 0.63653137, 0.64760148, 0.64514145,\n",
       "       0.64206642, 0.65313653, 0.65706194, 0.63284133, 0.6497502 ,\n",
       "       0.63407134, 0.62915129, 0.61193112, 0.62730627, 0.65498155,\n",
       "       0.64816333, 0.65805658, 0.66297663, 0.66113161, 0.66912669,\n",
       "       0.67220172, 0.68388684, 0.6795818 , 0.68081181, 0.6599016 ,\n",
       "       0.64883149, 0.64145141, 0.65771491, 0.67066041, 0.65559656,\n",
       "       0.66051661, 0.64391144, 0.64021381, 0.64883149, 0.63161132,\n",
       "       0.63376763, 0.63343356, 0.64944649, 0.60885609, 0.58394454,\n",
       "       0.5897909 , 0.57626076, 0.58856089, 0.61254613, 0.58666272,\n",
       "       0.5799508 , 0.5602706 , 0.52646349, 0.54735547, 0.54305802,\n",
       "       0.54120541, 0.56211562, 0.58118081, 0.54305043, 0.53567036,\n",
       "       0.53259533, 0.54582175, 0.51605166, 0.51537515, 1.        ])"
      ]
     },
     "execution_count": 18,
     "metadata": {},
     "output_type": "execute_result"
    }
   ],
   "source": [
    "data=pd.read_csv('meta.csv')\n",
    "#data=data[\"Sunspots\"]\n",
    "scaler=MinMaxScaler(feature_range=(0,1))\n",
    "column=['X']\n",
    "data=scaler.fit_transform(data[column]).flatten()\n",
    "data"
   ]
  },
  {
   "cell_type": "code",
   "execution_count": 19,
   "metadata": {},
   "outputs": [],
   "source": [
    "n=len(data)\n",
    "split=int(n*0.9)\n",
    "train_data=data[range(split)]\n",
    "test_data=data[split:]\n"
   ]
  },
  {
   "cell_type": "code",
   "execution_count": 20,
   "metadata": {},
   "outputs": [
    {
     "data": {
      "text/plain": [
       "355"
      ]
     },
     "execution_count": 20,
     "metadata": {},
     "output_type": "execute_result"
    }
   ],
   "source": [
    "len(train_data)"
   ]
  },
  {
   "cell_type": "code",
   "execution_count": 21,
   "metadata": {},
   "outputs": [],
   "source": [
    "hidden_units=50\n",
    "time_steps=2\n",
    "input_shape=(time_steps,1)\n",
    "y_ind=np.arange(time_steps,len(train_data),time_steps)\n",
    "y_train=train_data[y_ind]\n",
    "x_train=train_data[range(len(y_train)*time_steps)]\n",
    "x_train=np.reshape(x_train,(len(y_train),time_steps,1))\n",
    "\n",
    "y_ind=np.arange(time_steps,len(test_data),time_steps)\n",
    "y_test=test_data[y_ind]\n",
    "x_test=train_data[range(len(y_test)*time_steps)]\n",
    "x_test=np.reshape(x_test,(len(y_test),time_steps,1))\n"
   ]
  },
  {
   "cell_type": "code",
   "execution_count": 22,
   "metadata": {},
   "outputs": [
    {
     "name": "stdout",
     "output_type": "stream",
     "text": [
      "(177, 2, 1)\n",
      "(177,)\n"
     ]
    }
   ],
   "source": [
    "print(x_train.shape)\n",
    "print(y_train.shape)"
   ]
  },
  {
   "cell_type": "code",
   "execution_count": 23,
   "metadata": {},
   "outputs": [],
   "source": [
    "model=Sequential()\n",
    "\n",
    "model.add(LSTM(hidden_units,return_sequences=True,input_shape=input_shape))\n",
    "model.add(Dropout(0.2))\n",
    "model.add(LSTM(hidden_units,return_sequences=True))\n",
    "model.add(Dropout(0.2))\n",
    "model.add(LSTM(hidden_units,return_sequences=True))\n",
    "model.add(Dropout(0.2))\n",
    "model.add(LSTM(hidden_units))\n",
    "model.add(Dropout(0.2))\n",
    "model.add(Dense(units=1))\n",
    "model.compile(loss='mean_squared_error',optimizer='adam')"
   ]
  },
  {
   "cell_type": "code",
   "execution_count": 24,
   "metadata": {},
   "outputs": [
    {
     "name": "stdout",
     "output_type": "stream",
     "text": [
      "Epoch 1/100\n",
      "6/6 [==============================] - 7s 6ms/step - loss: 0.1033\n",
      "Epoch 2/100\n",
      "6/6 [==============================] - 0s 6ms/step - loss: 0.0818\n",
      "Epoch 3/100\n",
      "6/6 [==============================] - 0s 6ms/step - loss: 0.0571\n",
      "Epoch 4/100\n",
      "6/6 [==============================] - 0s 6ms/step - loss: 0.0372\n",
      "Epoch 5/100\n",
      "6/6 [==============================] - 0s 6ms/step - loss: 0.0311\n",
      "Epoch 6/100\n",
      "6/6 [==============================] - 0s 6ms/step - loss: 0.0290\n",
      "Epoch 7/100\n",
      "6/6 [==============================] - 0s 6ms/step - loss: 0.0273\n",
      "Epoch 8/100\n",
      "6/6 [==============================] - 0s 6ms/step - loss: 0.0231\n",
      "Epoch 9/100\n",
      "6/6 [==============================] - 0s 6ms/step - loss: 0.0197\n",
      "Epoch 10/100\n",
      "6/6 [==============================] - 0s 6ms/step - loss: 0.0126\n",
      "Epoch 11/100\n",
      "6/6 [==============================] - 0s 6ms/step - loss: 0.0101\n",
      "Epoch 12/100\n",
      "6/6 [==============================] - 0s 6ms/step - loss: 0.0055\n",
      "Epoch 13/100\n",
      "6/6 [==============================] - 0s 6ms/step - loss: 0.0032\n",
      "Epoch 14/100\n",
      "6/6 [==============================] - 0s 6ms/step - loss: 0.0049\n",
      "Epoch 15/100\n",
      "6/6 [==============================] - 0s 6ms/step - loss: 0.0047\n",
      "Epoch 16/100\n",
      "6/6 [==============================] - 0s 6ms/step - loss: 0.0034\n",
      "Epoch 17/100\n",
      "6/6 [==============================] - 0s 13ms/step - loss: 0.0033\n",
      "Epoch 18/100\n",
      "6/6 [==============================] - 0s 6ms/step - loss: 0.0035\n",
      "Epoch 19/100\n",
      "6/6 [==============================] - 0s 6ms/step - loss: 0.0029\n",
      "Epoch 20/100\n",
      "6/6 [==============================] - 0s 7ms/step - loss: 0.0029\n",
      "Epoch 21/100\n",
      "6/6 [==============================] - 0s 7ms/step - loss: 0.0025\n",
      "Epoch 22/100\n",
      "6/6 [==============================] - 0s 6ms/step - loss: 0.0036\n",
      "Epoch 23/100\n",
      "6/6 [==============================] - 0s 6ms/step - loss: 0.0031\n",
      "Epoch 24/100\n",
      "6/6 [==============================] - 0s 6ms/step - loss: 0.0027\n",
      "Epoch 25/100\n",
      "6/6 [==============================] - 0s 6ms/step - loss: 0.0031\n",
      "Epoch 26/100\n",
      "6/6 [==============================] - 0s 6ms/step - loss: 0.0029\n",
      "Epoch 27/100\n",
      "6/6 [==============================] - 0s 14ms/step - loss: 0.0023\n",
      "Epoch 28/100\n",
      "6/6 [==============================] - 0s 6ms/step - loss: 0.0028\n",
      "Epoch 29/100\n",
      "6/6 [==============================] - 0s 6ms/step - loss: 0.0025\n",
      "Epoch 30/100\n",
      "6/6 [==============================] - 0s 6ms/step - loss: 0.0023\n",
      "Epoch 31/100\n",
      "6/6 [==============================] - 0s 6ms/step - loss: 0.0024\n",
      "Epoch 32/100\n",
      "6/6 [==============================] - 0s 6ms/step - loss: 0.0027\n",
      "Epoch 33/100\n",
      "6/6 [==============================] - 0s 6ms/step - loss: 0.0024\n",
      "Epoch 34/100\n",
      "6/6 [==============================] - 0s 6ms/step - loss: 0.0028\n",
      "Epoch 35/100\n",
      "6/6 [==============================] - 0s 6ms/step - loss: 0.0020\n",
      "Epoch 36/100\n",
      "6/6 [==============================] - 0s 6ms/step - loss: 0.0023\n",
      "Epoch 37/100\n",
      "6/6 [==============================] - 0s 6ms/step - loss: 0.0022\n",
      "Epoch 38/100\n",
      "6/6 [==============================] - 0s 6ms/step - loss: 0.0025\n",
      "Epoch 39/100\n",
      "6/6 [==============================] - 0s 6ms/step - loss: 0.0024\n",
      "Epoch 40/100\n",
      "6/6 [==============================] - 0s 6ms/step - loss: 0.0025\n",
      "Epoch 41/100\n",
      "6/6 [==============================] - 0s 7ms/step - loss: 0.0022\n",
      "Epoch 42/100\n",
      "6/6 [==============================] - 0s 7ms/step - loss: 0.0023\n",
      "Epoch 43/100\n",
      "6/6 [==============================] - 0s 6ms/step - loss: 0.0026\n",
      "Epoch 44/100\n",
      "6/6 [==============================] - 0s 6ms/step - loss: 0.0025\n",
      "Epoch 45/100\n",
      "6/6 [==============================] - 0s 13ms/step - loss: 0.0023\n",
      "Epoch 46/100\n",
      "6/6 [==============================] - 0s 6ms/step - loss: 0.0023\n",
      "Epoch 47/100\n",
      "6/6 [==============================] - 0s 6ms/step - loss: 0.0019\n",
      "Epoch 48/100\n",
      "6/6 [==============================] - 0s 6ms/step - loss: 0.0023\n",
      "Epoch 49/100\n",
      "6/6 [==============================] - 0s 7ms/step - loss: 0.0018\n",
      "Epoch 50/100\n",
      "6/6 [==============================] - 0s 6ms/step - loss: 0.0021\n",
      "Epoch 51/100\n",
      "6/6 [==============================] - 0s 6ms/step - loss: 0.0025\n",
      "Epoch 52/100\n",
      "6/6 [==============================] - 0s 6ms/step - loss: 0.0020\n",
      "Epoch 53/100\n",
      "6/6 [==============================] - 0s 6ms/step - loss: 0.0021\n",
      "Epoch 54/100\n",
      "6/6 [==============================] - 0s 7ms/step - loss: 0.0026\n",
      "Epoch 55/100\n",
      "6/6 [==============================] - 0s 6ms/step - loss: 0.0023\n",
      "Epoch 56/100\n",
      "6/6 [==============================] - 0s 6ms/step - loss: 0.0022\n",
      "Epoch 57/100\n",
      "6/6 [==============================] - 0s 6ms/step - loss: 0.0025\n",
      "Epoch 58/100\n",
      "6/6 [==============================] - 0s 6ms/step - loss: 0.0021\n",
      "Epoch 59/100\n",
      "6/6 [==============================] - 0s 6ms/step - loss: 0.0024\n",
      "Epoch 60/100\n",
      "6/6 [==============================] - 0s 6ms/step - loss: 0.0020\n",
      "Epoch 61/100\n",
      "6/6 [==============================] - 0s 6ms/step - loss: 0.0024\n",
      "Epoch 62/100\n",
      "6/6 [==============================] - 0s 6ms/step - loss: 0.0022\n",
      "Epoch 63/100\n",
      "6/6 [==============================] - 0s 6ms/step - loss: 0.0023\n",
      "Epoch 64/100\n",
      "6/6 [==============================] - 0s 6ms/step - loss: 0.0024\n",
      "Epoch 65/100\n",
      "6/6 [==============================] - 0s 6ms/step - loss: 0.0022\n",
      "Epoch 66/100\n",
      "6/6 [==============================] - 0s 6ms/step - loss: 0.0026\n",
      "Epoch 67/100\n",
      "6/6 [==============================] - 0s 7ms/step - loss: 0.0021\n",
      "Epoch 68/100\n",
      "6/6 [==============================] - 0s 7ms/step - loss: 0.0018\n",
      "Epoch 69/100\n",
      "6/6 [==============================] - 0s 7ms/step - loss: 0.0022\n",
      "Epoch 70/100\n",
      "6/6 [==============================] - 0s 6ms/step - loss: 0.0020\n",
      "Epoch 71/100\n",
      "6/6 [==============================] - 0s 7ms/step - loss: 0.0023\n",
      "Epoch 72/100\n",
      "6/6 [==============================] - 0s 6ms/step - loss: 0.0020\n",
      "Epoch 73/100\n",
      "6/6 [==============================] - 0s 6ms/step - loss: 0.0021\n",
      "Epoch 74/100\n",
      "6/6 [==============================] - 0s 8ms/step - loss: 0.0022\n",
      "Epoch 75/100\n",
      "6/6 [==============================] - 0s 6ms/step - loss: 0.0021\n",
      "Epoch 76/100\n",
      "6/6 [==============================] - 0s 6ms/step - loss: 0.0019\n",
      "Epoch 77/100\n",
      "6/6 [==============================] - 0s 6ms/step - loss: 0.0021\n",
      "Epoch 78/100\n",
      "6/6 [==============================] - 0s 6ms/step - loss: 0.0023\n",
      "Epoch 79/100\n",
      "6/6 [==============================] - 0s 6ms/step - loss: 0.0022\n",
      "Epoch 80/100\n",
      "6/6 [==============================] - 0s 7ms/step - loss: 0.0022\n",
      "Epoch 81/100\n",
      "6/6 [==============================] - 0s 6ms/step - loss: 0.0020\n",
      "Epoch 82/100\n",
      "6/6 [==============================] - 0s 6ms/step - loss: 0.0019\n",
      "Epoch 83/100\n",
      "6/6 [==============================] - 0s 6ms/step - loss: 0.0021\n",
      "Epoch 84/100\n",
      "6/6 [==============================] - 0s 6ms/step - loss: 0.0020\n",
      "Epoch 85/100\n",
      "6/6 [==============================] - 0s 6ms/step - loss: 0.0024\n",
      "Epoch 86/100\n",
      "6/6 [==============================] - 0s 6ms/step - loss: 0.0021\n",
      "Epoch 87/100\n",
      "6/6 [==============================] - 0s 6ms/step - loss: 0.0021\n",
      "Epoch 88/100\n",
      "6/6 [==============================] - 0s 6ms/step - loss: 0.0020\n",
      "Epoch 89/100\n",
      "6/6 [==============================] - 0s 6ms/step - loss: 0.0018\n",
      "Epoch 90/100\n",
      "6/6 [==============================] - 0s 6ms/step - loss: 0.0015\n",
      "Epoch 91/100\n",
      "6/6 [==============================] - 0s 6ms/step - loss: 0.0023\n",
      "Epoch 92/100\n",
      "6/6 [==============================] - 0s 7ms/step - loss: 0.0020\n",
      "Epoch 93/100\n",
      "6/6 [==============================] - 0s 8ms/step - loss: 0.0016\n",
      "Epoch 94/100\n",
      "6/6 [==============================] - 0s 7ms/step - loss: 0.0022\n",
      "Epoch 95/100\n",
      "6/6 [==============================] - 0s 6ms/step - loss: 0.0019\n",
      "Epoch 96/100\n",
      "6/6 [==============================] - 0s 6ms/step - loss: 0.0018\n",
      "Epoch 97/100\n",
      "6/6 [==============================] - 0s 6ms/step - loss: 0.0023\n",
      "Epoch 98/100\n",
      "6/6 [==============================] - 0s 13ms/step - loss: 0.0022\n",
      "Epoch 99/100\n",
      "6/6 [==============================] - 0s 6ms/step - loss: 0.0019\n",
      "Epoch 100/100\n",
      "6/6 [==============================] - 0s 6ms/step - loss: 0.0020\n"
     ]
    },
    {
     "data": {
      "text/plain": [
       "<keras.callbacks.History at 0x1718eaa89d0>"
      ]
     },
     "execution_count": 24,
     "metadata": {},
     "output_type": "execute_result"
    }
   ],
   "source": [
    "model.fit(x_train,y_train,epochs=100,batch_size=32)"
   ]
  },
  {
   "cell_type": "code",
   "execution_count": 25,
   "metadata": {},
   "outputs": [
    {
     "name": "stdout",
     "output_type": "stream",
     "text": [
      "6/6 [==============================] - 1s 2ms/step\n",
      "1/1 [==============================] - 0s 18ms/step\n"
     ]
    }
   ],
   "source": [
    "train_pred=model.predict(x_train)\n",
    "test_pred=model.predict(x_test)"
   ]
  },
  {
   "cell_type": "code",
   "execution_count": 26,
   "metadata": {},
   "outputs": [],
   "source": [
    "def print_error(trainY, testY, train_predict, test_predict):    \n",
    "    # Error of predictions\n",
    "    train_rmse = math.sqrt(mean_squared_error(trainY, train_predict))\n",
    "    test_rmse = math.sqrt(mean_squared_error(testY, test_predict))\n",
    "    # Print RMSE\n",
    "    print('Train RMSE: %.3f RMSE' % (train_rmse))\n",
    "    print('Test RMSE: %.3f RMSE' % (test_rmse))    "
   ]
  },
  {
   "cell_type": "code",
   "execution_count": 27,
   "metadata": {},
   "outputs": [
    {
     "name": "stdout",
     "output_type": "stream",
     "text": [
      "Train RMSE: 0.033 RMSE\n",
      "Test RMSE: 0.456 RMSE\n"
     ]
    }
   ],
   "source": [
    "print_error(y_train,y_test,train_pred,test_pred)"
   ]
  },
  {
   "cell_type": "code",
   "execution_count": 28,
   "metadata": {},
   "outputs": [],
   "source": [
    "def plot_result(trainY, testY, train_predict, test_predict):\n",
    "    actual = np.append(trainY, testY)\n",
    "    predictions = np.append(train_predict, test_predict)\n",
    "    rows = len(actual)\n",
    "    plt.figure(figsize=(20, 5), dpi=100)\n",
    "    plt.plot(range(rows), actual)\n",
    "    plt.plot(range(rows), predictions)\n",
    "    plt.axvline(x=len(trainY), color='r')\n",
    "    plt.legend(['Actual', 'Predictions'])\n",
    "    plt.xlabel('Observation number after given time steps')\n",
    "    plt.ylabel('Sunspots scaled')\n",
    "    plt.title('Actual and Predicted Values. The Red Line Separates The Training And Test Examples')"
   ]
  },
  {
   "cell_type": "code",
   "execution_count": 29,
   "metadata": {},
   "outputs": [
    {
     "data": {
      "image/png": "[encoded data removed]",
      "text/plain": [
       "<Figure size 2000x500 with 1 Axes>"
      ]
     },
     "metadata": {},
     "output_type": "display_data"
    }
   ],
   "source": [
    "plot_result(y_train,y_test,train_pred,test_pred)"
   ]
  },
  {
   "cell_type": "code",
   "execution_count": 30,
   "metadata": {},
   "outputs": [
    {
     "data": {
      "application/vnd.plotly.v1+json": {
       "config": {
        "plotlyServerURL": "https://plot.ly"
       },
       "data": [
        {
         "hovertemplate": "X=%{x}<br>Y=%{y}<extra></extra>",
         "legendgroup": "",
         "line": {
          "color": "#636efa",
          "dash": "solid"
         },
         "marker": {
          "symbol": "circle"
         },
         "mode": "lines",
         "name": "",
         "orientation": "v",
         "showlegend": false,
         "type": "scatter",
         "x": [
          0,
          2.566210046,
          5.132420091,
          7.698630137,
          10.26484018,
          12.83105023,
          15.39726027,
          17.96347032,
          20.52968037,
          23.09589041,
          25.66210046,
          28.2283105,
          30.79452055,
          33.36073059,
          35.92694064,
          38.49315068,
          41.05936073,
          43.62557078,
          46.19178082,
          48.75799087,
          51.32420091,
          53.89041096,
          56.456621,
          59.02283105,
          61.5890411,
          64.15525114,
          66.72146119,
          69.28767123,
          71.85388128,
          74.42009132,
          76.98630137,
          79.55251142,
          82.11872146,
          84.68493151,
          87.25114155,
          89.8173516,
          92.38356164,
          94.94977169,
          97.51598174,
          100.0821918,
          102.6484018,
          105.2146119,
          107.7808219,
          110.347032,
          112.913242,
          115.4794521,
          118.0456621,
          120.6118721,
          123.1780822,
          125.7442922,
          128.3105023,
          130.8767123,
          133.4429224,
          136.0091324,
          138.5753425,
          141.1415525,
          143.7077626,
          146.2739726,
          148.8401826,
          151.4063927,
          153.9726027,
          156.5388128,
          159.1050228,
          161.6712329,
          164.2374429,
          166.803653,
          169.369863,
          171.9360731,
          174.5022831,
          177.0684932,
          179.6347032,
          182.2009132,
          184.7671233,
          187.3333333,
          189.8995434,
          192.4657534,
          195.0319635,
          197.5981735,
          200.1643836,
          202.7305936,
          205.2968037,
          207.8630137,
          210.4292237,
          212.9954338,
          215.5616438,
          218.1278539,
          220.6940639,
          223.260274,
          225.826484,
          228.3926941,
          230.9589041,
          233.5251142,
          236.0913242,
          238.6575342,
          241.2237443,
          243.7899543,
          246.3561644,
          248.9223744,
          251.4885845,
          254.0547945,
          256.6210046,
          259.1872146,
          261.7534247,
          264.3196347,
          266.8858447,
          269.4520548,
          272.0182648,
          274.5844749,
          277.1506849,
          279.716895,
          282.283105,
          284.8493151,
          287.4155251,
          289.9817352,
          292.5479452,
          295.1141553,
          297.6803653,
          300.2465753,
          302.8127854,
          305.3789954,
          307.9452055,
          310.5114155,
          313.0776256,
          315.6438356,
          318.2100457,
          320.7762557,
          323.3424658,
          325.9086758,
          328.4748858,
          331.0410959,
          333.6073059,
          336.173516,
          338.739726,
          341.3059361,
          343.8721461,
          346.4383562,
          349.0045662,
          351.5707763,
          354.1369863,
          356.7031963,
          359.2694064,
          361.8356164,
          364.4018265,
          366.9680365,
          369.5342466,
          372.1004566,
          374.6666667,
          377.2328767,
          379.7990868,
          382.3652968,
          384.9315068,
          387.4977169,
          390.0639269,
          392.630137,
          395.196347,
          397.7625571,
          400.3287671,
          402.8949772,
          405.4611872,
          408.0273973,
          410.5936073,
          413.1598174,
          415.7260274,
          418.2922374,
          420.8584475,
          423.4246575,
          425.9908676,
          428.5570776,
          431.1232877,
          433.6894977,
          436.2557078,
          438.8219178,
          441.3881279,
          443.9543379,
          446.5205479,
          449.086758,
          451.652968,
          454.2191781,
          456.7853881,
          459.3515982,
          461.9178082,
          464.4840183,
          467.0502283,
          469.6164384,
          472.1826484,
          474.7488584,
          477.3150685,
          479.8812785,
          482.4474886,
          485.0136986,
          487.5799087,
          490.1461187,
          492.7123288,
          495.2785388,
          497.8447489,
          500.4109589,
          502.9771689,
          505.543379,
          508.109589,
          510.6757991,
          513.2420091,
          515.8082192,
          518.3744292,
          520.9406393,
          523.5068493,
          526.0730594,
          528.6392694,
          531.2054795,
          533.7716895,
          536.3378995,
          538.9041096,
          541.4703196,
          544.0365297,
          546.6027397,
          549.1689498,
          551.7351598,
          554.3013699,
          556.8675799,
          559.43379,
          562
         ],
         "xaxis": "x",
         "y": [
          76.8771,
          82.134,
          82.4418,
          88.65855,
          99.43965,
          101.4849,
          101.35935,
          98.50005,
          97.362,
          94.95225,
          91.04805,
          90.61875,
          92.826,
          85.02165,
          80.08065,
          77.56965,
          75.6621,
          76.5936,
          68.28705,
          67.959,
          70.83855,
          68.53815,
          66.12435,
          67.8375,
          65.29005,
          66.5496,
          70.03665,
          67.4649,
          62.74665,
          64.6866,
          62.6049,
          68.56245,
          67.0275,
          60.81885,
          53.2818,
          56.1978,
          55.65105,
          52.08705,
          43.0677,
          44.0964,
          52.1802,
          54.02295,
          59.72535,
          61.1469,
          57.9879,
          56.7243,
          55.1772,
          50.1633,
          54.29835,
          46.66005,
          53.59365,
          56.1492,
          43.16895,
          50.5926,
          50.625,
          52.7715,
          49.48695,
          45.5544,
          46.3401,
          51.21225,
          50.8356,
          53.82855,
          53.703,
          51.3702,
          55.35945,
          57.9798,
          60.1992,
          51.48765,
          47.76975,
          57.37635,
          53.4195,
          51.89265,
          52.4475,
          56.0682,
          58.85055,
          57.105,
          54.9666,
          53.298,
          46.97595,
          43.1163,
          47.3769,
          41.0427,
          37.9647,
          35.4537,
          37.9971,
          39.90465,
          39.2688,
          30.3426,
          32.3919,
          37.85535,
          34.0443,
          33.92685,
          29.2977,
          28.86435,
          28.20825,
          27.3537,
          25.61625,
          28.4877,
          23.74515,
          21.17745,
          18.3465,
          20.0799,
          22.4937,
          23.6277,
          12.23505,
          17.6985,
          16.6374,
          15.54795,
          14.9121,
          18.1764,
          13.96845,
          11.08485,
          9.6147,
          9.08415,
          9.51345,
          14.2884,
          21.8862,
          24.03675,
          23.08095,
          28.32975,
          30.5613,
          26.1873,
          30.53295,
          33.6474,
          29.1276,
          23.84235,
          23.93955,
          23.98815,
          23.89095,
          27.0864,
          36.29205,
          31.26195,
          28.45125,
          26.81505,
          28.16775,
          21.7971,
          25.77825,
          27.3537,
          26.58015,
          27.5805,
          39.21615,
          42.67485,
          35.1297,
          65.97855,
          69.63165,
          72.495,
          78.5052,
          76.7556,
          77.71545,
          86.07465,
          86.01795,
          77.8248,
          74.25675,
          72.1629,
          70.93575,
          71.5635,
          74.3337,
          76.8771,
          85.83165,
          88.71525,
          80.80965,
          79.47315,
          85.5603,
          80.9838,
          83.6163,
          84.38985,
          83.5758,
          84.7341,
          90.89415,
          93.41325,
          95.6853,
          93.0852,
          96.69375,
          93.88305,
          92.7936,
          95.2965,
          87.84855,
          94.50675,
          97.5645,
          92.91915,
          93.74535,
          88.8975,
          93.9762,
          95.8797,
          97.53615,
          97.0704,
          96.3657,
          99.98235,
          102.75255,
          105.13395,
          104.64795,
          105.86295,
          107.95275,
          109.23255,
          108.216,
          109.34595,
          121.824,
          125.3313,
          122.8284,
          116.2269,
          116.86275,
          116.8668,
          116.87895,
          111.98655,
          115.85835,
          115.54245,
          113.63085,
          114.5664,
          114.6636,
          113.2623,
          109.3419,
          108.17955,
          106.5231,
          105.55515,
          102.3435,
          101.66715,
          86.45535,
          91.46925,
          90.2502,
          91.9836
         ],
         "yaxis": "y"
        }
       ],
       "layout": {
        "legend": {
         "tracegroupgap": 0
        },
        "template": {
         "data": {
          "bar": [
           {
            "error_x": {
             "color": "#2a3f5f"
            },
            "error_y": {
             "color": "#2a3f5f"
            },
            "marker": {
             "line": {
              "color": "#E5ECF6",
              "width": 0.5
             },
             "pattern": {
              "fillmode": "overlay",
              "size": 10,
              "solidity": 0.2
             }
            },
            "type": "bar"
           }
          ],
          "barpolar": [
           {
            "marker": {
             "line": {
              "color": "#E5ECF6",
              "width": 0.5
             },
             "pattern": {
              "fillmode": "overlay",
              "size": 10,
              "solidity": 0.2
             }
            },
            "type": "barpolar"
           }
          ],
          "carpet": [
           {
            "aaxis": {
             "endlinecolor": "#2a3f5f",
             "gridcolor": "white",
             "linecolor": "white",
             "minorgridcolor": "white",
             "startlinecolor": "#2a3f5f"
            },
            "baxis": {
             "endlinecolor": "#2a3f5f",
             "gridcolor": "white",
             "linecolor": "white",
             "minorgridcolor": "white",
             "startlinecolor": "#2a3f5f"
            },
            "type": "carpet"
           }
          ],
          "choropleth": [
           {
            "colorbar": {
             "outlinewidth": 0,
             "ticks": ""
            },
            "type": "choropleth"
           }
          ],
          "contour": [
           {
            "colorbar": {
             "outlinewidth": 0,
             "ticks": ""
            },
            "colorscale": [
             [
              0,
              "#0d0887"
             ],
             [
              0.1111111111111111,
              "#46039f"
             ],
             [
              0.2222222222222222,
              "#7201a8"
             ],
             [
              0.3333333333333333,
              "#9c179e"
             ],
             [
              0.4444444444444444,
              "#bd3786"
             ],
             [
              0.5555555555555556,
              "#d8576b"
             ],
             [
              0.6666666666666666,
              "#ed7953"
             ],
             [
              0.7777777777777778,
              "#fb9f3a"
             ],
             [
              0.8888888888888888,
              "#fdca26"
             ],
             [
              1,
              "#f0f921"
             ]
            ],
            "type": "contour"
           }
          ],
          "contourcarpet": [
           {
            "colorbar": {
             "outlinewidth": 0,
             "ticks": ""
            },
            "type": "contourcarpet"
           }
          ],
          "heatmap": [
           {
            "colorbar": {
             "outlinewidth": 0,
             "ticks": ""
            },
            "colorscale": [
             [
              0,
              "#0d0887"
             ],
             [
              0.1111111111111111,
              "#46039f"
             ],
             [
              0.2222222222222222,
              "#7201a8"
             ],
             [
              0.3333333333333333,
              "#9c179e"
             ],
             [
              0.4444444444444444,
              "#bd3786"
             ],
             [
              0.5555555555555556,
              "#d8576b"
             ],
             [
              0.6666666666666666,
              "#ed7953"
             ],
             [
              0.7777777777777778,
              "#fb9f3a"
             ],
             [
              0.8888888888888888,
              "#fdca26"
             ],
             [
              1,
              "#f0f921"
             ]
            ],
            "type": "heatmap"
           }
          ],
          "heatmapgl": [
           {
            "colorbar": {
             "outlinewidth": 0,
             "ticks": ""
            },
            "colorscale": [
             [
              0,
              "#0d0887"
             ],
             [
              0.1111111111111111,
              "#46039f"
             ],
             [
              0.2222222222222222,
              "#7201a8"
             ],
             [
              0.3333333333333333,
              "#9c179e"
             ],
             [
              0.4444444444444444,
              "#bd3786"
             ],
             [
              0.5555555555555556,
              "#d8576b"
             ],
             [
              0.6666666666666666,
              "#ed7953"
             ],
             [
              0.7777777777777778,
              "#fb9f3a"
             ],
             [
              0.8888888888888888,
              "#fdca26"
             ],
             [
              1,
              "#f0f921"
             ]
            ],
            "type": "heatmapgl"
           }
          ],
          "histogram": [
           {
            "marker": {
             "pattern": {
              "fillmode": "overlay",
              "size": 10,
              "solidity": 0.2
             }
            },
            "type": "histogram"
           }
          ],
          "histogram2d": [
           {
            "colorbar": {
             "outlinewidth": 0,
             "ticks": ""
            },
            "colorscale": [
             [
              0,
              "#0d0887"
             ],
             [
              0.1111111111111111,
              "#46039f"
             ],
             [
              0.2222222222222222,
              "#7201a8"
             ],
             [
              0.3333333333333333,
              "#9c179e"
             ],
             [
              0.4444444444444444,
              "#bd3786"
             ],
             [
              0.5555555555555556,
              "#d8576b"
             ],
             [
              0.6666666666666666,
              "#ed7953"
             ],
             [
              0.7777777777777778,
              "#fb9f3a"
             ],
             [
              0.8888888888888888,
              "#fdca26"
             ],
             [
              1,
              "#f0f921"
             ]
            ],
            "type": "histogram2d"
           }
          ],
          "histogram2dcontour": [
           {
            "colorbar": {
             "outlinewidth": 0,
             "ticks": ""
            },
            "colorscale": [
             [
              0,
              "#0d0887"
             ],
             [
              0.1111111111111111,
              "#46039f"
             ],
             [
              0.2222222222222222,
              "#7201a8"
             ],
             [
              0.3333333333333333,
              "#9c179e"
             ],
             [
              0.4444444444444444,
              "#bd3786"
             ],
             [
              0.5555555555555556,
              "#d8576b"
             ],
             [
              0.6666666666666666,
              "#ed7953"
             ],
             [
              0.7777777777777778,
              "#fb9f3a"
             ],
             [
              0.8888888888888888,
              "#fdca26"
             ],
             [
              1,
              "#f0f921"
             ]
            ],
            "type": "histogram2dcontour"
           }
          ],
          "mesh3d": [
           {
            "colorbar": {
             "outlinewidth": 0,
             "ticks": ""
            },
            "type": "mesh3d"
           }
          ],
          "parcoords": [
           {
            "line": {
             "colorbar": {
              "outlinewidth": 0,
              "ticks": ""
             }
            },
            "type": "parcoords"
           }
          ],
          "pie": [
           {
            "automargin": true,
            "type": "pie"
           }
          ],
          "scatter": [
           {
            "fillpattern": {
             "fillmode": "overlay",
             "size": 10,
             "solidity": 0.2
            },
            "type": "scatter"
           }
          ],
          "scatter3d": [
           {
            "line": {
             "colorbar": {
              "outlinewidth": 0,
              "ticks": ""
             }
            },
            "marker": {
             "colorbar": {
              "outlinewidth": 0,
              "ticks": ""
             }
            },
            "type": "scatter3d"
           }
          ],
          "scattercarpet": [
           {
            "marker": {
             "colorbar": {
              "outlinewidth": 0,
              "ticks": ""
             }
            },
            "type": "scattercarpet"
           }
          ],
          "scattergeo": [
           {
            "marker": {
             "colorbar": {
              "outlinewidth": 0,
              "ticks": ""
             }
            },
            "type": "scattergeo"
           }
          ],
          "scattergl": [
           {
            "marker": {
             "colorbar": {
              "outlinewidth": 0,
              "ticks": ""
             }
            },
            "type": "scattergl"
           }
          ],
          "scattermapbox": [
           {
            "marker": {
             "colorbar": {
              "outlinewidth": 0,
              "ticks": ""
             }
            },
            "type": "scattermapbox"
           }
          ],
          "scatterpolar": [
           {
            "marker": {
             "colorbar": {
              "outlinewidth": 0,
              "ticks": ""
             }
            },
            "type": "scatterpolar"
           }
          ],
          "scatterpolargl": [
           {
            "marker": {
             "colorbar": {
              "outlinewidth": 0,
              "ticks": ""
             }
            },
            "type": "scatterpolargl"
           }
          ],
          "scatterternary": [
           {
            "marker": {
             "colorbar": {
              "outlinewidth": 0,
              "ticks": ""
             }
            },
            "type": "scatterternary"
           }
          ],
          "surface": [
           {
            "colorbar": {
             "outlinewidth": 0,
             "ticks": ""
            },
            "colorscale": [
             [
              0,
              "#0d0887"
             ],
             [
              0.1111111111111111,
              "#46039f"
             ],
             [
              0.2222222222222222,
              "#7201a8"
             ],
             [
              0.3333333333333333,
              "#9c179e"
             ],
             [
              0.4444444444444444,
              "#bd3786"
             ],
             [
              0.5555555555555556,
              "#d8576b"
             ],
             [
              0.6666666666666666,
              "#ed7953"
             ],
             [
              0.7777777777777778,
              "#fb9f3a"
             ],
             [
              0.8888888888888888,
              "#fdca26"
             ],
             [
              1,
              "#f0f921"
             ]
            ],
            "type": "surface"
           }
          ],
          "table": [
           {
            "cells": {
             "fill": {
              "color": "#EBF0F8"
             },
             "line": {
              "color": "white"
             }
            },
            "header": {
             "fill": {
              "color": "#C8D4E3"
             },
             "line": {
              "color": "white"
             }
            },
            "type": "table"
           }
          ]
         },
         "layout": {
          "annotationdefaults": {
           "arrowcolor": "#2a3f5f",
           "arrowhead": 0,
           "arrowwidth": 1
          },
          "autotypenumbers": "strict",
          "coloraxis": {
           "colorbar": {
            "outlinewidth": 0,
            "ticks": ""
           }
          },
          "colorscale": {
           "diverging": [
            [
             0,
             "#8e0152"
            ],
            [
             0.1,
             "#c51b7d"
            ],
            [
             0.2,
             "#de77ae"
            ],
            [
             0.3,
             "#f1b6da"
            ],
            [
             0.4,
             "#fde0ef"
            ],
            [
             0.5,
             "#f7f7f7"
            ],
            [
             0.6,
             "#e6f5d0"
            ],
            [
             0.7,
             "#b8e186"
            ],
            [
             0.8,
             "#7fbc41"
            ],
            [
             0.9,
             "#4d9221"
            ],
            [
             1,
             "#276419"
            ]
           ],
           "sequential": [
            [
             0,
             "#0d0887"
            ],
            [
             0.1111111111111111,
             "#46039f"
            ],
            [
             0.2222222222222222,
             "#7201a8"
            ],
            [
             0.3333333333333333,
             "#9c179e"
            ],
            [
             0.4444444444444444,
             "#bd3786"
            ],
            [
             0.5555555555555556,
             "#d8576b"
            ],
            [
             0.6666666666666666,
             "#ed7953"
            ],
            [
             0.7777777777777778,
             "#fb9f3a"
            ],
            [
             0.8888888888888888,
             "#fdca26"
            ],
            [
             1,
             "#f0f921"
            ]
           ],
           "sequentialminus": [
            [
             0,
             "#0d0887"
            ],
            [
             0.1111111111111111,
             "#46039f"
            ],
            [
             0.2222222222222222,
             "#7201a8"
            ],
            [
             0.3333333333333333,
             "#9c179e"
            ],
            [
             0.4444444444444444,
             "#bd3786"
            ],
            [
             0.5555555555555556,
             "#d8576b"
            ],
            [
             0.6666666666666666,
             "#ed7953"
            ],
            [
             0.7777777777777778,
             "#fb9f3a"
            ],
            [
             0.8888888888888888,
             "#fdca26"
            ],
            [
             1,
             "#f0f921"
            ]
           ]
          },
          "colorway": [
           "#636efa",
           "#EF553B",
           "#00cc96",
           "#ab63fa",
           "#FFA15A",
           "#19d3f3",
           "#FF6692",
           "#B6E880",
           "#FF97FF",
           "#FECB52"
          ],
          "font": {
           "color": "#2a3f5f"
          },
          "geo": {
           "bgcolor": "white",
           "lakecolor": "white",
           "landcolor": "#E5ECF6",
           "showlakes": true,
           "showland": true,
           "subunitcolor": "white"
          },
          "hoverlabel": {
           "align": "left"
          },
          "hovermode": "closest",
          "mapbox": {
           "style": "light"
          },
          "paper_bgcolor": "white",
          "plot_bgcolor": "#E5ECF6",
          "polar": {
           "angularaxis": {
            "gridcolor": "white",
            "linecolor": "white",
            "ticks": ""
           },
           "bgcolor": "#E5ECF6",
           "radialaxis": {
            "gridcolor": "white",
            "linecolor": "white",
            "ticks": ""
           }
          },
          "scene": {
           "xaxis": {
            "backgroundcolor": "#E5ECF6",
            "gridcolor": "white",
            "gridwidth": 2,
            "linecolor": "white",
            "showbackground": true,
            "ticks": "",
            "zerolinecolor": "white"
           },
           "yaxis": {
            "backgroundcolor": "#E5ECF6",
            "gridcolor": "white",
            "gridwidth": 2,
            "linecolor": "white",
            "showbackground": true,
            "ticks": "",
            "zerolinecolor": "white"
           },
           "zaxis": {
            "backgroundcolor": "#E5ECF6",
            "gridcolor": "white",
            "gridwidth": 2,
            "linecolor": "white",
            "showbackground": true,
            "ticks": "",
            "zerolinecolor": "white"
           }
          },
          "shapedefaults": {
           "line": {
            "color": "#2a3f5f"
           }
          },
          "ternary": {
           "aaxis": {
            "gridcolor": "white",
            "linecolor": "white",
            "ticks": ""
           },
           "baxis": {
            "gridcolor": "white",
            "linecolor": "white",
            "ticks": ""
           },
           "bgcolor": "#E5ECF6",
           "caxis": {
            "gridcolor": "white",
            "linecolor": "white",
            "ticks": ""
           }
          },
          "title": {
           "x": 0.05
          },
          "xaxis": {
           "automargin": true,
           "gridcolor": "white",
           "linecolor": "white",
           "ticks": "",
           "title": {
            "standoff": 15
           },
           "zerolinecolor": "white",
           "zerolinewidth": 2
          },
          "yaxis": {
           "automargin": true,
           "gridcolor": "white",
           "linecolor": "white",
           "ticks": "",
           "title": {
            "standoff": 15
           },
           "zerolinecolor": "white",
           "zerolinewidth": 2
          }
         }
        },
        "title": {
         "text": "Graph"
        },
        "xaxis": {
         "anchor": "y",
         "domain": [
          0,
          1
         ],
         "title": {
          "text": "X"
         }
        },
        "yaxis": {
         "anchor": "x",
         "domain": [
          0,
          1
         ],
         "title": {
          "text": "Y"
         }
        }
       }
      }
     },
     "metadata": {},
     "output_type": "display_data"
    }
   ],
   "source": [
    "graph=pd.read_csv('graph.csv')\n",
    "fig=px.line(graph,x=graph['X'],y=graph['Y'],title='Graph')\n",
    "fig.show()"
   ]
  }
 ],
 "metadata": {
  "kernelspec": {
   "display_name": "base",
   "language": "python",
   "name": "python3"
  },
  "language_info": {
   "codemirror_mode": {
    "name": "ipython",
    "version": 3
   },
   "file_extension": ".py",
   "mimetype": "text/x-python",
   "name": "python",
   "nbconvert_exporter": "python",
   "pygments_lexer": "ipython3",
   "version": "3.9.13"
  },
  "orig_nbformat": 4,
  "vscode": {
   "interpreter": {
    "hash": "3b41cfa5255bee4fd2dc8b76f2ffcd9e273dab5b3dca4d1b25887bf92f15abae"
   }
  }
 },
 "nbformat": 4,
 "nbformat_minor": 2
}
